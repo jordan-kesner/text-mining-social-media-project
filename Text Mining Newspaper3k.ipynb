{
 "cells": [
  {
   "cell_type": "code",
   "execution_count": 1,
   "id": "d4bd7e01-1e9c-488f-98af-3196c9a38e57",
   "metadata": {},
   "outputs": [],
   "source": [
    "import pandas as pd\n",
    "import requests"
   ]
  },
  {
   "cell_type": "code",
   "execution_count": 2,
   "id": "8aab0579-679d-4cb9-b15b-77f40d2254cd",
   "metadata": {},
   "outputs": [],
   "source": [
    "API_KEY = \"Your API Key\"\n",
    "BASE_URL = \"https://newsapi.org/v2/everything\"\n",
    "\n",
    "PARAMS = {\n",
    "    \"q\": \"technology\", \n",
    "    \"from\": \"2025-02-05\",       \n",
    "    \"to\": \"2025-02-06\",           \n",
    "    \"language\": \"en\",                  \n",
    "    \"sortBy\": \"relevancy\",              \n",
    "    \"pageSize\": 100,                    \n",
    "    \"apiKey\": API_KEY                   \n",
    "}\n",
    "\n",
    "response = requests.get(BASE_URL, params=PARAMS)"
   ]
  },
  {
   "cell_type": "code",
   "execution_count": 3,
   "id": "03b40c43-7cc6-43fe-8db3-477a969c2f5a",
   "metadata": {},
   "outputs": [
    {
     "name": "stdout",
     "output_type": "stream",
     "text": [
      "Number of negative articles fetched: 98\n"
     ]
    }
   ],
   "source": [
    "if response.status_code == 200:\n",
    "    data = response.json()\n",
    "    articles = data.get(\"articles\", [])\n",
    "    print(f\"Number of negative articles fetched: {len(articles)}\")\n",
    "    df = pd.DataFrame(articles)\n",
    "else:\n",
    "    print(f\"Error: {response.status_code}, {response.text}\")"
   ]
  },
  {
   "cell_type": "code",
   "execution_count": 4,
   "id": "ada411e6-a3b7-4f99-ab65-333c71981715",
   "metadata": {},
   "outputs": [
    {
     "data": {
      "text/html": [
       "<div>\n",
       "<style scoped>\n",
       "    .dataframe tbody tr th:only-of-type {\n",
       "        vertical-align: middle;\n",
       "    }\n",
       "\n",
       "    .dataframe tbody tr th {\n",
       "        vertical-align: top;\n",
       "    }\n",
       "\n",
       "    .dataframe thead th {\n",
       "        text-align: right;\n",
       "    }\n",
       "</style>\n",
       "<table border=\"1\" class=\"dataframe\">\n",
       "  <thead>\n",
       "    <tr style=\"text-align: right;\">\n",
       "      <th></th>\n",
       "      <th>source</th>\n",
       "      <th>author</th>\n",
       "      <th>title</th>\n",
       "      <th>description</th>\n",
       "      <th>url</th>\n",
       "      <th>urlToImage</th>\n",
       "      <th>publishedAt</th>\n",
       "      <th>content</th>\n",
       "    </tr>\n",
       "  </thead>\n",
       "  <tbody>\n",
       "    <tr>\n",
       "      <th>0</th>\n",
       "      <td>{'id': None, 'name': 'Yahoo Entertainment'}</td>\n",
       "      <td>None</td>\n",
       "      <td>DeepSeek's advanced tracking technology 'never...</td>\n",
       "      <td>None</td>\n",
       "      <td>https://consent.yahoo.com/v2/collectConsent?se...</td>\n",
       "      <td>None</td>\n",
       "      <td>2025-02-06T22:20:53Z</td>\n",
       "      <td>If you click 'Accept all', we and our partners...</td>\n",
       "    </tr>\n",
       "    <tr>\n",
       "      <th>1</th>\n",
       "      <td>{'id': 'business-insider', 'name': 'Business I...</td>\n",
       "      <td>Julia Hornstein</td>\n",
       "      <td>Google's latest change to its AI policies sign...</td>\n",
       "      <td>Google's latest update of its ethical AI guide...</td>\n",
       "      <td>https://www.businessinsider.com/google-changes...</td>\n",
       "      <td>https://i.insider.com/67a29d157bb3f854015bc0e0...</td>\n",
       "      <td>2025-02-05T00:18:40Z</td>\n",
       "      <td>Google headquarters in Mountain View, Californ...</td>\n",
       "    </tr>\n",
       "    <tr>\n",
       "      <th>2</th>\n",
       "      <td>{'id': None, 'name': 'VentureBeat'}</td>\n",
       "      <td>Dean Takahashi</td>\n",
       "      <td>The Game Company raises $10M on blockchain-bas...</td>\n",
       "      <td>The Game Company, a Dubai gaming startup, has ...</td>\n",
       "      <td>https://venturebeat.com/games/the-game-company...</td>\n",
       "      <td>https://venturebeat.com/wp-content/uploads/202...</td>\n",
       "      <td>2025-02-06T14:00:00Z</td>\n",
       "      <td>The Game Company (TCG), a Dubai gaming startup...</td>\n",
       "    </tr>\n",
       "    <tr>\n",
       "      <th>3</th>\n",
       "      <td>{'id': None, 'name': 'Gizmodo.com'}</td>\n",
       "      <td>Florence Ion</td>\n",
       "      <td>The Apple AirPods Pro 3 Might Be Getting Some ...</td>\n",
       "      <td>Apple's latest patent filings also reveal a me...</td>\n",
       "      <td>https://gizmodo.com/the-apple-airpods-pro-3-mi...</td>\n",
       "      <td>https://gizmodo.com/app/uploads/2025/02/AirPod...</td>\n",
       "      <td>2025-02-05T19:12:42Z</td>\n",
       "      <td>New AirPod Pros, when? They may be months away...</td>\n",
       "    </tr>\n",
       "    <tr>\n",
       "      <th>4</th>\n",
       "      <td>{'id': None, 'name': 'BBC News'}</td>\n",
       "      <td>None</td>\n",
       "      <td>Met Police blitz to fight phone-snatching 'sco...</td>\n",
       "      <td>Some 230 people have been arrested and 1,000 p...</td>\n",
       "      <td>https://www.bbc.com/news/articles/c4g39ldprr3o</td>\n",
       "      <td>https://ichef.bbci.co.uk/news/1024/branded_new...</td>\n",
       "      <td>2025-02-06T12:08:43Z</td>\n",
       "      <td>The Met says there is a £50m-a-year trade in s...</td>\n",
       "    </tr>\n",
       "  </tbody>\n",
       "</table>\n",
       "</div>"
      ],
      "text/plain": [
       "                                              source           author  \\\n",
       "0        {'id': None, 'name': 'Yahoo Entertainment'}             None   \n",
       "1  {'id': 'business-insider', 'name': 'Business I...  Julia Hornstein   \n",
       "2                {'id': None, 'name': 'VentureBeat'}   Dean Takahashi   \n",
       "3                {'id': None, 'name': 'Gizmodo.com'}     Florence Ion   \n",
       "4                   {'id': None, 'name': 'BBC News'}             None   \n",
       "\n",
       "                                               title  \\\n",
       "0  DeepSeek's advanced tracking technology 'never...   \n",
       "1  Google's latest change to its AI policies sign...   \n",
       "2  The Game Company raises $10M on blockchain-bas...   \n",
       "3  The Apple AirPods Pro 3 Might Be Getting Some ...   \n",
       "4  Met Police blitz to fight phone-snatching 'sco...   \n",
       "\n",
       "                                         description  \\\n",
       "0                                               None   \n",
       "1  Google's latest update of its ethical AI guide...   \n",
       "2  The Game Company, a Dubai gaming startup, has ...   \n",
       "3  Apple's latest patent filings also reveal a me...   \n",
       "4  Some 230 people have been arrested and 1,000 p...   \n",
       "\n",
       "                                                 url  \\\n",
       "0  https://consent.yahoo.com/v2/collectConsent?se...   \n",
       "1  https://www.businessinsider.com/google-changes...   \n",
       "2  https://venturebeat.com/games/the-game-company...   \n",
       "3  https://gizmodo.com/the-apple-airpods-pro-3-mi...   \n",
       "4     https://www.bbc.com/news/articles/c4g39ldprr3o   \n",
       "\n",
       "                                          urlToImage           publishedAt  \\\n",
       "0                                               None  2025-02-06T22:20:53Z   \n",
       "1  https://i.insider.com/67a29d157bb3f854015bc0e0...  2025-02-05T00:18:40Z   \n",
       "2  https://venturebeat.com/wp-content/uploads/202...  2025-02-06T14:00:00Z   \n",
       "3  https://gizmodo.com/app/uploads/2025/02/AirPod...  2025-02-05T19:12:42Z   \n",
       "4  https://ichef.bbci.co.uk/news/1024/branded_new...  2025-02-06T12:08:43Z   \n",
       "\n",
       "                                             content  \n",
       "0  If you click 'Accept all', we and our partners...  \n",
       "1  Google headquarters in Mountain View, Californ...  \n",
       "2  The Game Company (TCG), a Dubai gaming startup...  \n",
       "3  New AirPod Pros, when? They may be months away...  \n",
       "4  The Met says there is a £50m-a-year trade in s...  "
      ]
     },
     "execution_count": 4,
     "metadata": {},
     "output_type": "execute_result"
    }
   ],
   "source": [
    "df.head()"
   ]
  },
  {
   "cell_type": "code",
   "execution_count": 5,
   "id": "24782350-4fca-443b-94d0-39620bfa3994",
   "metadata": {},
   "outputs": [
    {
     "data": {
      "text/plain": [
       "'Google headquarters in Mountain View, California.Tayfun Coskun/Anadolu via Getty Images\\r\\n<ul><li>Google updated its ethical AI guidelines in a blog post on Tuesday.</li><li>The post omitted a 2018 st… [+3403 chars]'"
      ]
     },
     "execution_count": 5,
     "metadata": {},
     "output_type": "execute_result"
    }
   ],
   "source": [
    "df.iloc[1]['content']"
   ]
  },
  {
   "cell_type": "code",
   "execution_count": 6,
   "id": "b6d601cf-713d-4ec6-ba9a-20ca3c410964",
   "metadata": {},
   "outputs": [
    {
     "name": "stdout",
     "output_type": "stream",
     "text": [
      "Google updated its ethical AI guidelines in a blog post on Tuesday.\n",
      "\n",
      "The post omitted a 2018 statement that Google wouldn't use AI for weapons or surveillance.\n",
      "\n",
      "The announcement follows other Silicon Valley companies seeking to partner with the US on defense tech.\n",
      "\n",
      "Google updated its ethical guidelines for artificial intelligence in a blog post on Tuesday, removing the company's previous vows to not use its technology to build weapons or surveillance tools.\n",
      "\n",
      "In 2018, the company outlined AI \"applications we will not pursue.\" These included weapons and \"technologies that gather or use information for surveillance violating internationally accepted norms,\" as well as \"technologies that cause or are likely to cause overall harm\" and \"technologies whose purpose contravenes widely accepted principles of international law and human rights.\"\n",
      "\n",
      "The 2018 post now includes an appended note at the top of the page that says the company has updated its AI principles in a new post, which does not mention the previous guidelines against using AI for weapons and some surveillance technologies.\n",
      "\n",
      "The company first published these AI guidelines in 2018 after thousands of Google employees protested its involvement in Project Maven, an AI project that Google and the US Department of Defense collaborated on. After over 4,000 workers signed a petition demanding that Google stop working on Project Maven and promise never to again \"build warfare technology,\" the company decided not to renew its contract to build AI tools for the Pentagon.\n",
      "\n",
      "James Manyika, Google's senior vice president for technology and society, and Demis Hassabis, the CEO of Google DeepMind, said in a blog post that democratic nations and companies should work together in leveraging AI that strengthens homeland security:\n",
      "\n",
      "\"There's a global competition taking place for AI leadership within an increasingly complex geopolitical landscape,\" the executives wrote. \"We believe democracies should lead in AI development, guided by core values like freedom, equality, and respect for human rights. And we believe that companies, governments, and organizations sharing these values should work together to create AI that protects people, promotes global growth, and supports national security.\"\n",
      "\n",
      "A spokesperson from Google did not immediately respond to a request for comment.\n",
      "\n",
      "Although many in Silicon Valley previously steered clear of US military contracts, this move — in the backdrop of the Trump administration, rising US-China tensions, and the Russian-Ukraine war — is part of a broader shift among tech companies and startups moving toward offering their proprietary technology, including artificial intelligence tools, for defense purposes.\n",
      "\n",
      "Defense tech companies and startups have been optimistic that the industry is poised for success during President Donald Trump's second term. In November of last year, Anduril cofounder Palmer Luckey said in an interview with Bloomberg TV of Trump that it is \"good to have someone inbound who is deeply aligned with the idea that we need to be spending less on defense while still getting more: that we need to do a better job of procuring the defense tools that protect our country.\"\n",
      "\n",
      "Late last year, Palantir and Anduril, which makes autonomous vehicles for military use, held discussions with other defense companies and startups, including SpaceX, ScaleAI, and OpenAI, to form a bidding group for the US government's defense contracts.\n"
     ]
    }
   ],
   "source": [
    "from newspaper import Article\n",
    "\n",
    "first_url = df.iloc[1]['url']\n",
    "article = Article(first_url)\n",
    "article.download()\n",
    "article.parse()\n",
    "print(article.text)"
   ]
  },
  {
   "cell_type": "code",
   "execution_count": null,
   "id": "fef78608-6df4-46af-b32c-8bc687fc1bae",
   "metadata": {},
   "outputs": [],
   "source": []
  }
 ],
 "metadata": {
  "kernelspec": {
   "display_name": "Python 3 (ipykernel)",
   "language": "python",
   "name": "python3"
  },
  "language_info": {
   "codemirror_mode": {
    "name": "ipython",
    "version": 3
   },
   "file_extension": ".py",
   "mimetype": "text/x-python",
   "name": "python",
   "nbconvert_exporter": "python",
   "pygments_lexer": "ipython3",
   "version": "3.11.4"
  }
 },
 "nbformat": 4,
 "nbformat_minor": 5
}
