{
 "cells": [
  {
   "cell_type": "code",
   "execution_count": 54,
   "id": "c7931a79",
   "metadata": {},
   "outputs": [],
   "source": [
    "import pandas as pd\n",
    "import numpy as np\n",
    "import os\n",
    "import matplotlib.pyplot as plt\n",
    "from sklearn.feature_extraction.text import TfidfVectorizer\n",
    "from sklearn.model_selection import train_test_split\n"
   ]
  },
  {
   "cell_type": "code",
   "execution_count": 34,
   "id": "802ca2d7",
   "metadata": {},
   "outputs": [],
   "source": [
    "reddit = pd.read_csv('cleaned_dataframes/reddit_cleaned_df.csv')\n",
    "cnn = pd.read_csv('cleaned_dataframes/cnn_cleaned_df.csv')\n",
    "foxnews = pd.read_csv('cleaned_dataframes/foxnews_cleaned_df.csv')\n",
    "newsapi = pd.read_csv('cleaned_dataframes/newsapi_cleaned_df.csv')"
   ]
  },
  {
   "cell_type": "code",
   "execution_count": 35,
   "id": "bff86247",
   "metadata": {},
   "outputs": [],
   "source": [
    "reddit[\"source\"] = \"reddit\"\n",
    "cnn[\"source\"] = \"cnn\"\n",
    "foxnews[\"source\"] = \"foxnews\"\n",
    "newsapi[\"source\"] = \"newsapi\"\n"
   ]
  },
  {
   "cell_type": "code",
   "execution_count": 36,
   "id": "252f78cf",
   "metadata": {},
   "outputs": [],
   "source": [
    "for df in [reddit, cnn, foxnews, newsapi]:\n",
    "    if \"Label\" in df.columns:\n",
    "        df.drop(columns=[\"Label\"], inplace=True)"
   ]
  },
  {
   "cell_type": "code",
   "execution_count": 37,
   "id": "ab0b746f",
   "metadata": {},
   "outputs": [],
   "source": [
    "combined_df = pd.concat([reddit, cnn, foxnews, newsapi], ignore_index=True)"
   ]
  },
  {
   "cell_type": "code",
   "execution_count": 38,
   "id": "c30c19cc",
   "metadata": {},
   "outputs": [
    {
     "data": {
      "text/html": [
       "<div>\n",
       "<style scoped>\n",
       "    .dataframe tbody tr th:only-of-type {\n",
       "        vertical-align: middle;\n",
       "    }\n",
       "\n",
       "    .dataframe tbody tr th {\n",
       "        vertical-align: top;\n",
       "    }\n",
       "\n",
       "    .dataframe thead th {\n",
       "        text-align: right;\n",
       "    }\n",
       "</style>\n",
       "<table border=\"1\" class=\"dataframe\">\n",
       "  <thead>\n",
       "    <tr style=\"text-align: right;\">\n",
       "      <th></th>\n",
       "      <th>Content</th>\n",
       "      <th>source</th>\n",
       "    </tr>\n",
       "  </thead>\n",
       "  <tbody>\n",
       "    <tr>\n",
       "      <th>821</th>\n",
       "      <td>pakistan cracks free speech online pakistan ad...</td>\n",
       "      <td>newsapi</td>\n",
       "    </tr>\n",
       "    <tr>\n",
       "      <th>822</th>\n",
       "      <td>harvard agrees adopt broad definition antisemi...</td>\n",
       "      <td>newsapi</td>\n",
       "    </tr>\n",
       "    <tr>\n",
       "      <th>823</th>\n",
       "      <td>deepseek panic app store description available</td>\n",
       "      <td>newsapi</td>\n",
       "    </tr>\n",
       "    <tr>\n",
       "      <th>824</th>\n",
       "      <td>kanye west days controversy super bowl swastik...</td>\n",
       "      <td>newsapi</td>\n",
       "    </tr>\n",
       "    <tr>\n",
       "      <th>825</th>\n",
       "      <td>supreme court upholds law banning tiktok decis...</td>\n",
       "      <td>newsapi</td>\n",
       "    </tr>\n",
       "  </tbody>\n",
       "</table>\n",
       "</div>"
      ],
      "text/plain": [
       "                                               Content   source\n",
       "821  pakistan cracks free speech online pakistan ad...  newsapi\n",
       "822  harvard agrees adopt broad definition antisemi...  newsapi\n",
       "823     deepseek panic app store description available  newsapi\n",
       "824  kanye west days controversy super bowl swastik...  newsapi\n",
       "825  supreme court upholds law banning tiktok decis...  newsapi"
      ]
     },
     "execution_count": 38,
     "metadata": {},
     "output_type": "execute_result"
    }
   ],
   "source": [
    "combined_df.tail()"
   ]
  },
  {
   "cell_type": "code",
   "execution_count": 39,
   "id": "48c2c846",
   "metadata": {},
   "outputs": [
    {
     "data": {
      "text/plain": [
       "(826, 2)"
      ]
     },
     "execution_count": 39,
     "metadata": {},
     "output_type": "execute_result"
    }
   ],
   "source": [
    "combined_df.shape"
   ]
  },
  {
   "cell_type": "code",
   "execution_count": 40,
   "id": "2f24565e",
   "metadata": {},
   "outputs": [
    {
     "data": {
      "text/plain": [
       "source\n",
       "reddit     614\n",
       "newsapi    200\n",
       "cnn          6\n",
       "foxnews      6\n",
       "Name: count, dtype: int64"
      ]
     },
     "execution_count": 40,
     "metadata": {},
     "output_type": "execute_result"
    }
   ],
   "source": [
    "combined_df[\"source\"].value_counts()"
   ]
  },
  {
   "cell_type": "code",
   "execution_count": 41,
   "id": "41dc9de6",
   "metadata": {},
   "outputs": [
    {
     "name": "stdout",
     "output_type": "stream",
     "text": [
      "<class 'pandas.core.frame.DataFrame'>\n",
      "RangeIndex: 826 entries, 0 to 825\n",
      "Data columns (total 2 columns):\n",
      " #   Column   Non-Null Count  Dtype \n",
      "---  ------   --------------  ----- \n",
      " 0   Content  826 non-null    object\n",
      " 1   source   826 non-null    object\n",
      "dtypes: object(2)\n",
      "memory usage: 13.0+ KB\n"
     ]
    }
   ],
   "source": [
    "combined_df.info()"
   ]
  },
  {
   "cell_type": "code",
   "execution_count": 42,
   "id": "b99be5af",
   "metadata": {},
   "outputs": [
    {
     "data": {
      "text/plain": [
       "array(['cmv really honestly unironically worried fascist government near future pro final edit real significant portion thread directly address point instead asserts without real reason believe military unbeatable matter address please see post regarding issue discuss instead distracting post bad link check hours know sides sling accusations sides wanting authoritarian dystopia respective flavours opinion goes ways anyone legitimately worried either kamala starting wwiii generating hurricanes destroy republican states trump rewriting constitution become america first dictator absolutely support even armed everyone stuff willing participate armed conflict theoretical oppressive regime even logical reason actively opposed willing less less weaponry common argument needs machine guns somehow coexists going army without considering maybe access machine guns fight army really worried hostile authoritarian regime white house anytime soon pinning hope resistance freedom fighters armed teeth fight back opinion lack decisive pro support either means failure appreciate fundamental rule world might makes right inherrant willingness choose evil government rule violence likely understanding rhetoric evil empire government rhetoric cmv please explain logical line thinking allows unwillingness allow citizens armed legitimate fear dictatorial evil government coming power coexist another option may cmv proposal removing evil government without resorting armed resistance believable obviously voting power remove kamala commie hitler without fight early edit claim government defeated place forever auto fail cmv source literally every armed guerilla warfare campaign ever succeeded edit argument using defeat army auto fail cmv fighting government entails large armed resistance army edit anything talks futility armed resistance auto fail cmv denies success every armed resistance revolution history honestly insane take words imagine somehow immune logistical issues occur combatting armed resistance military strong nukes aircraft carriers speaks underlying misunderstanding military operations fundamental simply lack credentials teach even address worth fighting even might lose die worth fighting unless going win worth voting unless going win either final edit maybe thanks everyone replied except ignored edits continue state dead case comments rolled roughly per hour simply reply everyone read everything final note thread slowly dies best respond everyone expect delay read everyone comments fail understand put prior edits let spell simplest terms imaginable notion military could simply handle widespread insurgency american soil staggeringly naive keep resurrecting ridiculous idea lack basic understanding military logistics deployment fact least apparently crowd military logistical backbone rooted domestic insurgency exponentially perilous conflict foreign soil reason alone think troops returning home face gauntlet complications bombed blockaded ports air force bases eyes every second locals communications towers sabotaged recruitment stations reduced rubble believe military could somehow manage war americans ease handling foreign adversary simply clueless nature warfare frankly nothing could say rescue depth ignorance perhaps time embark long road awarded delta comments earned deltas users listed note change view necessarily mean reversal conversation deltaboards really approach tackling hypothetical scenarios dictatorial government dictatorial government going think essential observation history dictatorships often though always emerge armed populace rebellions think conditioned look era germany russia china japan rule dictatorships emerge exceptions dictatorships emerged armed populace rebellions iran comes mind chile country hit throw dart map africa want back little time french revolution armed public put dictatorship power power first must careful balancing act arming public check authoritarianism enough armed public stand threat emerging authoritarianism extant government must checks armed ability install authoritarian see reflected limitations amendment interpreted constitutional rights definition without limitations amendment allows private ownership small arms restricted ownership heavy arms devices rpgs machine guns etc ownership strategic arms cruise missiles sam sites heavy cruisers nuclear weapons biological weapons etc weapons greatest check government going full red blue wants live world elon musk deploys uss oprah deploys uss book club potomac guns pointed capital put another way enough guys armed prevent guys turning government fascist guys want sufficiently armed turn government fascist regime must mutual unwillingness allow citizens armed key question armed extent great example arming black panthers might civil rights movement untold numbers black minority voters disenfranchised intimidated polls black panthers started exercising constitutional rights carry weapons patrol polling places california make black minority voters feel safe intimidation persecution immediately led sweeping gun control measures california later nation fear conservative right unchecked armed populace lead installing dictatorial communist government black panther perspective definition legitimate fear dictatorial evil government coming power exact kind government living since end civil war getting worse response civil rights political activism jim crow governance dictatorial unquestionably dictatorships best style government picking strong winners losers budding dictatorship members public willing fight die cause stand gain cases lose guys fundamentally sword accept armed populace powerful fully armed government strategic weaponry must accept armed populace equally powerful install authoritarian communist fascist name government first place agree far enough left guns back think might missing point leftist gun control advocates politicians say whatever think everybody knows bans pretty much anything happening result gun control less taking guns restricting things competency exams background checks safe storage requirements likely achieve many goals gun control advocates without infringing upon say rights lawabiding citizens example required keep firearms locked risk small child managing shoot goes mass shooters history violence women guns proven domestic abusers think measure reasonable could behind require competency exams licenses think everybody range watched somebody shoot thought guy guns things called goa nra types infringements freedoms perfectly reasonable appropriate really restrictive sense rights special therefore restriction automatically unreasonable course keeping plain text keeping understanding rights right vote example often restricted felons since kind sacred cow american jurisprudence often forget basic limitations apply rights well competency exams become literacy test voting answer simple make laws regimes make mandatory purchases honestly point well good thing many guns actually know use looking history believe statistically civilian weapons likely used facilitate government oppose fight happens government citizenry always faction citizenry another faction citizenry government never group without support supported large faction fighting foes depends getting side going fight military better fighting hands guns military members country generally least decent places loath fire fellow citizens shoot shoot back attack fists stick using control tactics equipment someone conflicted fascists almost universally want shoot scapegoated legally going talk consider left want stricter restrictions guns worried fascist population even fascist takeover ambivalent long affect many germans rebelled hitler many went along kept heads tried stay uninvolved possible fascists already guns greater numbers personal firearms joke compared real military expand look side levels tech army relatively primitive levels technology whether consider resistance fighters terrorists choose building exist anymore missile flying incredible speeds window destroy support beam entire structure collapses basic communication devices phones pagers walkie talkies booby trapped bombs israel united states real power house machine gun matter person killing miles away comfortably sitting computer commanding bomb dropped atop home bunker designed flashbanged smoked enemies ballistic vests bulletproof shields artillery air support importantly resistance control information look easily support things campus protests stop oil turned favor massive corporate entities using cherry picked news segments broadcast everywhere resistance painted worst possible light awful terrorists trying end democracy worst believe rest easy night knowing military taking majority population recognize solidarity similarities resistance crushed level support already world single month cross industry strikes cripple economy beyond hard part majority already power getting majority recognize mainstream news repeatedly tries divide population small isolated chunks fascinating convo points guerrilla resistance throughout history great many stories underdogs see flaw guns necessarily mean power real uprising americans likely split different groups fighting vision organized groups fringe militias hardline religious movements probably take unbalanced lead conflict regular folks sidelined military either pick group systematically organized rebel groups seize control think anyone left right wants outcomes think plenty modern examples peaceful revolutions leading positive government reforms india south africa ussr even civil rights movement sparking interesting discussion curious leaning problem real threat authoritarian regime lot long things support really matter many guns half trump dictator day deport browns regime polarized media even think many swayed side president started undermining rule law democratic process trump term barely lost yeah holding breath freedom fighters save democracy think likely cheering death silly daydream every hardcore second amendment gun lover fantasy overthrowing government authoritarian government voted first sign authoritarian try dismantle process allows president voted office years guns going stop happening happens authoritarian government guns stop game next years slowly enact laws restrict personal freedom ways citizens love citizens fantasy think americans going unite authoritarian government half voted revolution government civil war civil war swing states two sides interconnected every town city county even solidly red blue states still lot family members support opposite political party going thanksgiving dinner shoot enemy course governments everyone homes start torturing require massive amount human resources accomplish nothing pass laws washington restrict freedoms different groups time take years police ones arrest violating law arrested vast majority population say broken law gotten arrested much population hitler tortured imprisoned negligible amount government wants economy collapse ignores fact governments longer need physical force control nsa everyone secrets threaten expose someone worst internet searches content consumption fall line close bank accounts shut cell phone shut internet watch run around ranting going violent things reasons many think weapons going prevent authoritarian government taking joke take seconds realistically think things',\n",
       "       'california family sued social media giants google claiming provide material support family lost daughter last november paris terror attacks honestly hope win know sounds silly insane good reasons lot giant media companies state control users however cited several times companies edited altered removed content felt offensive feel guilty removing isis see issue social media sites selectively edit change remove problem comes make social justice warriors removing something leads crime actually taking part crime know sound weird lets look way put bulletin board say anyone put anything want board risk stated bulletin board responsible others say lets say later decide somethings board start removing point creating content bulletin board feel okay lets say hate group starts putting things bulletin board keep removing things board always manage skip hate groups content well removing agreeing content make big know long post thought bit really hope something comes social media sites need learn edit remove users posts marking content remove something support honestly hope much hope beliefs political leanings viewpoint means forum bbs online platform going moderated perfectly balanced manner even perfectly balanced point view think holding moderations administrators publishers responsible content users post instantly see closure online platforms nobody place considerable risk held responsible anything done basically end internet careful wish moderates thing responsible things miss different company individual editing content saying make responsible choose moderate feel job need right responsible choice moderating let individual responsible unless laws require removal saying hope win companies feel job force laws rather social justice remove content based feel jobs social justice warriors need responsible fail job honestly think job social justice warriors media sites remove content unless request remove law sites covered several laws make need remove content ordered violation arguing saying bring end freedom internet however selective social justice already starting path simply saying job going make job better able take responsibility fail going quote say lest quote whole statement accompanying statement silly insane point quoting saying perfectly balanced point view think appropriate change meaning quote whole thing saying moderation means taking action something comply rules agrees someone point view connotation moderator agrees content even moderator platforms moderation works exception someone else objects moderation team vet every single seeking make moderators responsible content provided poster poster put responsible otherwise thinking leads idea car makers responsible mistakes drivers gun makers responsible mass shootings spoons somehow responsible making personal responsibility pure social justice alive well reddit alone hotbed views mainly populated younger got full free choice participate platform prevailing viewpoint sure libertarians much selective quoting pardon copy every character posted given post appeared immediately able place comments context care',\n",
       "       'democrats openly supporting internet legislation kill free speech online share need word hillary openly supporting criminalizing online speech comply centrally controlled government narratives attack online free speech fundamental levels need figure share story high trafficked left wing spaces reddit issue cuts across isle understand section section communications decency act provides immunity online platforms held liable content allows platforms moderate content without treated publisher content important safeguards free speech allowing platforms host wide variety content without fear overwhelming legal liabilities without platforms might overly censor block controversial content avoid lawsuits stifling diverse opinions innovation digital communication negative impact repealing section repealing could lead shutdown smaller platforms afford legal risks large companies may implement strict censorship drastically reduce diversity online discourse harming free speech innovation wonder means lose total control democrats federal government america free speech provides citizens control rather freedom control interesting post trump wants repeal section mention cited hillary understand section predicted based caselaw providers might attempt avoid liability content moderation complicated protects free speech speech protected moderators speech companies adhere first amendment opinion even though think first amendment really free speech closest democrats mean democrat clinton currently private citizen representative entire democratic party title republicans advocated repeal section including lindsay graham active member congress sponsored bill repeal screening disastrous online free speech course members parties either understand care posted already subreddit today want post answer see interesting discussion follow want give benefit doubt create steelman position context interview misspoken meant totally lose control since total control watch whole video question rises social media companies tiktok degree responsibility logic twofold something unlawful propagated platforms example give child porn shielded companies create content amplify since millions users possible find content topic position decision amplify content another probably powerful content creation companies shielded responsibility participate amplification certain content amplify unlawful content share responsibility',\n",
       "       'glenn greenwald main function corporate media attack demean social media platform executive refuses take censorship orders allows free speech platform goal drive away corporate advertisers platform reach air dissent media lost actual journalism needs trust busting break far harder control avoid sense conflict never good business free speech spend dollars nothing convincing article reads better conspiracy theory evidence insider quotes even business advertise platforms push controversial theories school shooting red flag events inside job companies mypillow owner openly pushes conspiracy theories advertise types programs censorship capitalism describe speech terms violence seem appreciate corporate media saying must special kind person think glenn greenwald principles opposed figuring early right wing grift pays though years ago journalism schools switched teaching journalists fair objective teaching leftist political activists',\n",
       "       'rumble free speech platform help stay alive free speech attack note ceo rumble dear rumble users typically send messages users email red lines crossed major developments free speech platforms feel important let everyone know going help rumble rumble longer available citizens brazil joining ranks france russia china media reports brazil longer elon musk due attacks free speech alexandre moreas justice brazil supreme federal court world powers want rumble want want telegram want truth social want control information companies let large companies fighting freedom put everything line telegram ceo recently arrested advertisers boycott companies try cut economic lifeline underestimate support among keep alive keep going want help join rumble premium rumble premium gets big enough help change game fight freedom expression offering dicount annual subscribers use promo code brazil sincerely chris pavlovski chairman ceo rumble rumble logo gulf mexico longboat key usa although rumble promotes free speech platform may genuinely aim support open expression centralized structure allows content easily censored click company government pressure reality means truly considered free speech platform misled thinking otherwise sure opinions welcomed open arms turn complete shitshow agree prevailing orthodox opinions geopolitics social economic censors legal free speech protected first amendment trying demonize youtube making similar rules censor legal free speech inferior youtube well'],\n",
       "      dtype=object)"
      ]
     },
     "execution_count": 42,
     "metadata": {},
     "output_type": "execute_result"
    }
   ],
   "source": [
    "combined_df[\"Content\"].sample(5).values"
   ]
  },
  {
   "cell_type": "code",
   "execution_count": 43,
   "id": "49edb4cd",
   "metadata": {},
   "outputs": [
    {
     "data": {
      "image/png": "[encoded data removed]",
      "text/plain": [
       "<Figure size 640x480 with 1 Axes>"
      ]
     },
     "metadata": {},
     "output_type": "display_data"
    }
   ],
   "source": [
    "\n",
    "combined_df['source'].value_counts().plot(kind='bar')\n",
    "plt.title(\"Number of Articles per Source\")\n",
    "plt.xlabel(\"Source\")\n",
    "plt.ylabel(\"Count\")\n",
    "plt.show()"
   ]
  },
  {
   "cell_type": "code",
   "execution_count": 44,
   "id": "b1e0bdda",
   "metadata": {},
   "outputs": [],
   "source": [
    "combined_df['label'] = combined_df['source'].map(lambda x: 'article' if x in ['cnn', 'foxnews', 'newsapi'] else 'post')\n"
   ]
  },
  {
   "cell_type": "code",
   "execution_count": 45,
   "id": "97dddc34",
   "metadata": {},
   "outputs": [
    {
     "data": {
      "text/html": [
       "<div>\n",
       "<style scoped>\n",
       "    .dataframe tbody tr th:only-of-type {\n",
       "        vertical-align: middle;\n",
       "    }\n",
       "\n",
       "    .dataframe tbody tr th {\n",
       "        vertical-align: top;\n",
       "    }\n",
       "\n",
       "    .dataframe thead th {\n",
       "        text-align: right;\n",
       "    }\n",
       "</style>\n",
       "<table border=\"1\" class=\"dataframe\">\n",
       "  <thead>\n",
       "    <tr style=\"text-align: right;\">\n",
       "      <th></th>\n",
       "      <th>Content</th>\n",
       "      <th>source</th>\n",
       "      <th>label</th>\n",
       "    </tr>\n",
       "  </thead>\n",
       "  <tbody>\n",
       "    <tr>\n",
       "      <th>0</th>\n",
       "      <td>idea free speech free speech right say want cr...</td>\n",
       "      <td>reddit</td>\n",
       "      <td>post</td>\n",
       "    </tr>\n",
       "    <tr>\n",
       "      <th>1</th>\n",
       "      <td>kamala harris stated use justice department co...</td>\n",
       "      <td>reddit</td>\n",
       "      <td>post</td>\n",
       "    </tr>\n",
       "    <tr>\n",
       "      <th>2</th>\n",
       "      <td>whole fiasco shows left greatest threat free s...</td>\n",
       "      <td>reddit</td>\n",
       "      <td>post</td>\n",
       "    </tr>\n",
       "    <tr>\n",
       "      <th>3</th>\n",
       "      <td>thoughts balance free speech need combat misin...</td>\n",
       "      <td>reddit</td>\n",
       "      <td>post</td>\n",
       "    </tr>\n",
       "    <tr>\n",
       "      <th>4</th>\n",
       "      <td>nazis woke enemies democracy think free speech...</td>\n",
       "      <td>reddit</td>\n",
       "      <td>post</td>\n",
       "    </tr>\n",
       "  </tbody>\n",
       "</table>\n",
       "</div>"
      ],
      "text/plain": [
       "                                             Content  source label\n",
       "0  idea free speech free speech right say want cr...  reddit  post\n",
       "1  kamala harris stated use justice department co...  reddit  post\n",
       "2  whole fiasco shows left greatest threat free s...  reddit  post\n",
       "3  thoughts balance free speech need combat misin...  reddit  post\n",
       "4  nazis woke enemies democracy think free speech...  reddit  post"
      ]
     },
     "execution_count": 45,
     "metadata": {},
     "output_type": "execute_result"
    }
   ],
   "source": [
    "combined_df.head()"
   ]
  },
  {
   "cell_type": "code",
   "execution_count": 46,
   "id": "644e064f",
   "metadata": {},
   "outputs": [
    {
     "data": {
      "text/plain": [
       "label\n",
       "post       614\n",
       "article    212\n",
       "Name: count, dtype: int64"
      ]
     },
     "execution_count": 46,
     "metadata": {},
     "output_type": "execute_result"
    }
   ],
   "source": [
    "combined_df[\"label\"].value_counts()"
   ]
  },
  {
   "cell_type": "code",
   "execution_count": 47,
   "id": "4e85cb60",
   "metadata": {},
   "outputs": [],
   "source": [
    "combined_df.drop(\"source\", axis=1, inplace=True)"
   ]
  },
  {
   "cell_type": "code",
   "execution_count": 48,
   "id": "5db86be5",
   "metadata": {},
   "outputs": [
    {
     "data": {
      "text/html": [
       "<div>\n",
       "<style scoped>\n",
       "    .dataframe tbody tr th:only-of-type {\n",
       "        vertical-align: middle;\n",
       "    }\n",
       "\n",
       "    .dataframe tbody tr th {\n",
       "        vertical-align: top;\n",
       "    }\n",
       "\n",
       "    .dataframe thead th {\n",
       "        text-align: right;\n",
       "    }\n",
       "</style>\n",
       "<table border=\"1\" class=\"dataframe\">\n",
       "  <thead>\n",
       "    <tr style=\"text-align: right;\">\n",
       "      <th></th>\n",
       "      <th>Content</th>\n",
       "      <th>label</th>\n",
       "    </tr>\n",
       "  </thead>\n",
       "  <tbody>\n",
       "    <tr>\n",
       "      <th>0</th>\n",
       "      <td>idea free speech free speech right say want cr...</td>\n",
       "      <td>post</td>\n",
       "    </tr>\n",
       "    <tr>\n",
       "      <th>1</th>\n",
       "      <td>kamala harris stated use justice department co...</td>\n",
       "      <td>post</td>\n",
       "    </tr>\n",
       "    <tr>\n",
       "      <th>2</th>\n",
       "      <td>whole fiasco shows left greatest threat free s...</td>\n",
       "      <td>post</td>\n",
       "    </tr>\n",
       "    <tr>\n",
       "      <th>3</th>\n",
       "      <td>thoughts balance free speech need combat misin...</td>\n",
       "      <td>post</td>\n",
       "    </tr>\n",
       "    <tr>\n",
       "      <th>4</th>\n",
       "      <td>nazis woke enemies democracy think free speech...</td>\n",
       "      <td>post</td>\n",
       "    </tr>\n",
       "  </tbody>\n",
       "</table>\n",
       "</div>"
      ],
      "text/plain": [
       "                                             Content label\n",
       "0  idea free speech free speech right say want cr...  post\n",
       "1  kamala harris stated use justice department co...  post\n",
       "2  whole fiasco shows left greatest threat free s...  post\n",
       "3  thoughts balance free speech need combat misin...  post\n",
       "4  nazis woke enemies democracy think free speech...  post"
      ]
     },
     "execution_count": 48,
     "metadata": {},
     "output_type": "execute_result"
    }
   ],
   "source": [
    "combined_df.head()"
   ]
  },
  {
   "cell_type": "code",
   "execution_count": 49,
   "id": "e5b6d085",
   "metadata": {},
   "outputs": [],
   "source": [
    "combined_df.rename(columns={\"Content\": \"text\"}, inplace=True)"
   ]
  },
  {
   "cell_type": "code",
   "execution_count": 50,
   "id": "4319c3a2",
   "metadata": {},
   "outputs": [],
   "source": [
    "from sklearn.preprocessing import LabelEncoder\n",
    "\n",
    "le = LabelEncoder()\n",
    "y = le.fit_transform(combined_df['label'])"
   ]
  },
  {
   "cell_type": "code",
   "execution_count": 51,
   "id": "0a464d7b",
   "metadata": {},
   "outputs": [
    {
     "data": {
      "text/plain": [
       "['article', 'post']"
      ]
     },
     "execution_count": 51,
     "metadata": {},
     "output_type": "execute_result"
    }
   ],
   "source": [
    "list(le.classes_)"
   ]
  },
  {
   "cell_type": "code",
   "execution_count": 53,
   "id": "b7d70a2d",
   "metadata": {},
   "outputs": [],
   "source": [
    "vectorizer = TfidfVectorizer(max_features = 5000, stop_words='english')\n",
    "X = vectorizer.fit_transform(combined_df['text']).toarray()"
   ]
  },
  {
   "cell_type": "code",
   "execution_count": 55,
   "id": "56480951",
   "metadata": {},
   "outputs": [],
   "source": [
    "X_train, X_test, y_train, y_test = train_test_split(X, y, test_size=0.2, random_state=42, stratify=y)"
   ]
  },
  {
   "cell_type": "code",
   "execution_count": 62,
   "id": "5683cab2",
   "metadata": {},
   "outputs": [],
   "source": [
    "\n",
    "\n",
    "import tensorflow as tf\n",
    "from tensorflow import keras\n",
    "from tensorflow.keras.layers import Dense, Dropout\n",
    "from tensorflow.keras.models import Sequential\n"
   ]
  },
  {
   "cell_type": "code",
   "execution_count": 64,
   "id": "8231c2a7",
   "metadata": {},
   "outputs": [],
   "source": [
    "\n",
    "model = Sequential([\n",
    "    Dense(256, activation='relu', input_shape=(X_train.shape[1],)),\n",
    "    Dropout(0.3),\n",
    "    Dense(128, activation='relu'),\n",
    "    Dropout(0.3),\n",
    "    Dense(1, activation='sigmoid')\n",
    "])"
   ]
  },
  {
   "cell_type": "code",
   "execution_count": 65,
   "id": "4050ce0c",
   "metadata": {},
   "outputs": [],
   "source": [
    "model.compile(optimizer='adam', loss='binary_crossentropy', metrics=['accuracy'])"
   ]
  },
  {
   "cell_type": "code",
   "execution_count": 66,
   "id": "951e9106",
   "metadata": {},
   "outputs": [
    {
     "name": "stdout",
     "output_type": "stream",
     "text": [
      "Epoch 1/10\n",
      "\u001b[1m19/19\u001b[0m \u001b[32m━━━━━━━━━━━━━━━━━━━━\u001b[0m\u001b[37m\u001b[0m \u001b[1m1s\u001b[0m 9ms/step - accuracy: 0.6690 - loss: 0.6362 - val_accuracy: 0.6667 - val_loss: 0.6275\n",
      "Epoch 2/10\n",
      "\u001b[1m19/19\u001b[0m \u001b[32m━━━━━━━━━━━━━━━━━━━━\u001b[0m\u001b[37m\u001b[0m \u001b[1m0s\u001b[0m 5ms/step - accuracy: 0.7519 - loss: 0.4061 - val_accuracy: 0.8788 - val_loss: 0.3468\n",
      "Epoch 3/10\n",
      "\u001b[1m19/19\u001b[0m \u001b[32m━━━━━━━━━━━━━━━━━━━━\u001b[0m\u001b[37m\u001b[0m \u001b[1m0s\u001b[0m 5ms/step - accuracy: 0.9561 - loss: 0.2295 - val_accuracy: 0.9545 - val_loss: 0.1624\n",
      "Epoch 4/10\n",
      "\u001b[1m19/19\u001b[0m \u001b[32m━━━━━━━━━━━━━━━━━━━━\u001b[0m\u001b[37m\u001b[0m \u001b[1m0s\u001b[0m 5ms/step - accuracy: 1.0000 - loss: 0.0586 - val_accuracy: 0.9545 - val_loss: 0.0793\n",
      "Epoch 5/10\n",
      "\u001b[1m19/19\u001b[0m \u001b[32m━━━━━━━━━━━━━━━━━━━━\u001b[0m\u001b[37m\u001b[0m \u001b[1m0s\u001b[0m 5ms/step - accuracy: 1.0000 - loss: 0.0146 - val_accuracy: 0.9545 - val_loss: 0.0887\n",
      "Epoch 6/10\n",
      "\u001b[1m19/19\u001b[0m \u001b[32m━━━━━━━━━━━━━━━━━━━━\u001b[0m\u001b[37m\u001b[0m \u001b[1m0s\u001b[0m 5ms/step - accuracy: 1.0000 - loss: 0.0037 - val_accuracy: 0.9697 - val_loss: 0.0771\n",
      "Epoch 7/10\n",
      "\u001b[1m19/19\u001b[0m \u001b[32m━━━━━━━━━━━━━━━━━━━━\u001b[0m\u001b[37m\u001b[0m \u001b[1m0s\u001b[0m 5ms/step - accuracy: 1.0000 - loss: 0.0022 - val_accuracy: 0.9697 - val_loss: 0.0752\n",
      "Epoch 8/10\n",
      "\u001b[1m19/19\u001b[0m \u001b[32m━━━━━━━━━━━━━━━━━━━━\u001b[0m\u001b[37m\u001b[0m \u001b[1m0s\u001b[0m 5ms/step - accuracy: 1.0000 - loss: 0.0016 - val_accuracy: 0.9697 - val_loss: 0.0819\n",
      "Epoch 9/10\n",
      "\u001b[1m19/19\u001b[0m \u001b[32m━━━━━━━━━━━━━━━━━━━━\u001b[0m\u001b[37m\u001b[0m \u001b[1m0s\u001b[0m 6ms/step - accuracy: 1.0000 - loss: 0.0014 - val_accuracy: 0.9697 - val_loss: 0.0826\n",
      "Epoch 10/10\n",
      "\u001b[1m19/19\u001b[0m \u001b[32m━━━━━━━━━━━━━━━━━━━━\u001b[0m\u001b[37m\u001b[0m \u001b[1m0s\u001b[0m 6ms/step - accuracy: 1.0000 - loss: 9.1968e-04 - val_accuracy: 0.9697 - val_loss: 0.0800\n"
     ]
    }
   ],
   "source": [
    "history = model.fit(\n",
    "    X_train, y_train,\n",
    "    epochs=10,\n",
    "    batch_size=32,\n",
    "    validation_split=0.1,  # 10% of training data used for validation\n",
    "    verbose=1\n",
    ")"
   ]
  },
  {
   "cell_type": "code",
   "execution_count": 67,
   "id": "efad7377",
   "metadata": {},
   "outputs": [
    {
     "name": "stdout",
     "output_type": "stream",
     "text": [
      "\u001b[1m6/6\u001b[0m \u001b[32m━━━━━━━━━━━━━━━━━━━━\u001b[0m\u001b[37m\u001b[0m \u001b[1m0s\u001b[0m 1ms/step - accuracy: 0.9255 - loss: 0.1806 \n"
     ]
    }
   ],
   "source": [
    "loss, accuracy = model.evaluate(X_test, y_test, verbose=1)"
   ]
  },
  {
   "cell_type": "code",
   "execution_count": 68,
   "id": "4ce2e104",
   "metadata": {},
   "outputs": [
    {
     "name": "stdout",
     "output_type": "stream",
     "text": [
      "\u001b[1m6/6\u001b[0m \u001b[32m━━━━━━━━━━━━━━━━━━━━\u001b[0m\u001b[37m\u001b[0m \u001b[1m0s\u001b[0m 4ms/step \n",
      "Confusion Matrix:\n",
      "[[ 33  10]\n",
      " [  2 121]]\n",
      "\n",
      "Classification Report:\n",
      "              precision    recall  f1-score   support\n",
      "\n",
      "     article       0.94      0.77      0.85        43\n",
      "        post       0.92      0.98      0.95       123\n",
      "\n",
      "    accuracy                           0.93       166\n",
      "   macro avg       0.93      0.88      0.90       166\n",
      "weighted avg       0.93      0.93      0.93       166\n",
      "\n"
     ]
    }
   ],
   "source": [
    "from sklearn.metrics import confusion_matrix, classification_report\n",
    "import numpy as np\n",
    "\n",
    "# Get predictions as class labels (0 or 1)\n",
    "y_pred_probs = model.predict(X_test)\n",
    "y_pred = (y_pred_probs > 0.5).astype(int).flatten()\n",
    "\n",
    "# Confusion matrix\n",
    "cm = confusion_matrix(y_test, y_pred)\n",
    "print(\"Confusion Matrix:\")\n",
    "print(cm)\n",
    "\n",
    "# Optional: classification report\n",
    "print(\"\\nClassification Report:\")\n",
    "print(classification_report(y_test, y_pred, target_names=le.classes_))"
   ]
  },
  {
   "cell_type": "code",
   "execution_count": 69,
   "id": "b6f0c1b1",
   "metadata": {},
   "outputs": [
    {
     "data": {
      "image/png": "[encoded data removed]",
      "text/plain": [
       "<Figure size 600x500 with 2 Axes>"
      ]
     },
     "metadata": {},
     "output_type": "display_data"
    }
   ],
   "source": [
    "import seaborn as sns\n",
    "import matplotlib.pyplot as plt\n",
    "from sklearn.metrics import confusion_matrix\n",
    "\n",
    "# Compute confusion matrix\n",
    "cm = confusion_matrix(y_test, y_pred)\n",
    "\n",
    "# Define class labels\n",
    "labels = le.classes_  # ['article', 'post']\n",
    "\n",
    "# Plot\n",
    "plt.figure(figsize=(6, 5))\n",
    "sns.heatmap(cm, annot=True, fmt='d', cmap='Blues', xticklabels=labels, yticklabels=labels)\n",
    "plt.xlabel('Predicted')\n",
    "plt.ylabel('Actual')\n",
    "plt.title('Confusion Matrix')\n",
    "plt.tight_layout()\n",
    "plt.show()\n",
    "\n"
   ]
  }
 ],
 "metadata": {
  "kernelspec": {
   "display_name": "base",
   "language": "python",
   "name": "python3"
  },
  "language_info": {
   "codemirror_mode": {
    "name": "ipython",
    "version": 3
   },
   "file_extension": ".py",
   "mimetype": "text/x-python",
   "name": "python",
   "nbconvert_exporter": "python",
   "pygments_lexer": "ipython3",
   "version": "3.11.4"
  }
 },
 "nbformat": 4,
 "nbformat_minor": 5
}
